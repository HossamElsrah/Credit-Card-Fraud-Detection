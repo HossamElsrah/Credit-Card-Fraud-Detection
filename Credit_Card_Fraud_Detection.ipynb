{
  "metadata": {
    "kernelspec": {
      "language": "python",
      "display_name": "Python 3",
      "name": "python3"
    },
    "language_info": {
      "name": "python",
      "version": "3.10.14",
      "mimetype": "text/x-python",
      "codemirror_mode": {
        "name": "ipython",
        "version": 3
      },
      "pygments_lexer": "ipython3",
      "nbconvert_exporter": "python",
      "file_extension": ".py"
    },
    "kaggle": {
      "accelerator": "none",
      "dataSources": [
        {
          "sourceId": 3594108,
          "sourceType": "datasetVersion",
          "datasetId": 2156255
        }
      ],
      "dockerImageVersionId": 30786,
      "isInternetEnabled": false,
      "language": "python",
      "sourceType": "notebook",
      "isGpuEnabled": false
    },
    "colab": {
      "name": "Credit Card Fraud Detection",
      "provenance": [],
      "include_colab_link": true
    }
  },
  "nbformat_minor": 0,
  "nbformat": 4,
  "cells": [
    {
      "cell_type": "markdown",
      "metadata": {
        "id": "view-in-github",
        "colab_type": "text"
      },
      "source": [
        "<a href=\"https://colab.research.google.com/github/HossamElsrah/Credit-Card-Fraud-Detection/blob/main/Credit_Card_Fraud_Detection.ipynb\" target=\"_parent\"><img src=\"https://colab.research.google.com/assets/colab-badge.svg\" alt=\"Open In Colab\"/></a>"
      ]
    },
    {
      "source": [
        "# IMPORTANT: RUN THIS CELL IN ORDER TO IMPORT YOUR KAGGLE DATA SOURCES,\n",
        "# THEN FEEL FREE TO DELETE THIS CELL.\n",
        "# NOTE: THIS NOTEBOOK ENVIRONMENT DIFFERS FROM KAGGLE'S PYTHON\n",
        "# ENVIRONMENT SO THERE MAY BE MISSING LIBRARIES USED BY YOUR\n",
        "# NOTEBOOK.\n",
        "import kagglehub\n",
        "dhanushnarayananr_credit_card_fraud_path = kagglehub.dataset_download('dhanushnarayananr/credit-card-fraud')\n",
        "\n",
        "print('Data source import complete.')\n"
      ],
      "metadata": {
        "id": "2ZzD_oVkR6eo"
      },
      "cell_type": "code",
      "outputs": [],
      "execution_count": null
    },
    {
      "cell_type": "code",
      "source": [
        "# This Python 3 environment comes with many helpful analytics libraries installed\n",
        "# It is defined by the kaggle/python Docker image: https://github.com/kaggle/docker-python\n",
        "# For example, here's several helpful packages to load\n",
        "\n",
        "import numpy as np # linear algebra\n",
        "import pandas as pd # data processing, CSV file I/O (e.g. pd.read_csv)\n",
        "\n",
        "# Input data files are available in the read-only \"../input/\" directory\n",
        "# For example, running this (by clicking run or pressing Shift+Enter) will list all files under the input directory\n",
        "\n",
        "import os\n",
        "for dirname, _, filenames in os.walk('/kaggle/input'):\n",
        "    for filename in filenames:\n",
        "        print(os.path.join(dirname, filename))\n",
        "\n",
        "# You can write up to 20GB to the current directory (/kaggle/working/) that gets preserved as output when you create a version using \"Save & Run All\"\n",
        "# You can also write temporary files to /kaggle/temp/, but they won't be saved outside of the current session"
      ],
      "metadata": {
        "_uuid": "8f2839f25d086af736a60e9eeb907d3b93b6e0e5",
        "_cell_guid": "b1076dfc-b9ad-4769-8c92-a6c4dae69d19",
        "trusted": true,
        "execution": {
          "iopub.status.busy": "2024-11-28T20:23:54.189353Z",
          "iopub.execute_input": "2024-11-28T20:23:54.190057Z",
          "iopub.status.idle": "2024-11-28T20:23:54.560335Z",
          "shell.execute_reply.started": "2024-11-28T20:23:54.190016Z",
          "shell.execute_reply": "2024-11-28T20:23:54.559342Z"
        },
        "id": "sYms3j3aR6er"
      },
      "outputs": [],
      "execution_count": null
    },
    {
      "cell_type": "markdown",
      "source": [
        "# Import Libraries"
      ],
      "metadata": {
        "id": "kgg5j0ldR6es"
      }
    },
    {
      "cell_type": "code",
      "source": [
        "import numpy as np\n",
        "import pandas as pd\n",
        "import matplotlib.pyplot as plt\n",
        "import seaborn as sns\n",
        "import plotly.express as px\n",
        "from sklearn.model_selection import train_test_split\n",
        "from sklearn.compose import ColumnTransformer\n",
        "from sklearn.pipeline import make_pipeline\n",
        "from sklearn.impute import SimpleImputer\n",
        "from sklearn.preprocessing import StandardScaler\n",
        "from sklearn.linear_model import LogisticRegression\n",
        "from sklearn.model_selection import GridSearchCV , cross_val_score\n",
        "from sklearn.metrics import classification_report , roc_auc_score , roc_curve as sk_roc_curve,accuracy_score , precision_recall_curve , confusion_matrix\n",
        "from sklearn.neighbors import KNeighborsClassifier\n",
        "from sklearn.tree import DecisionTreeClassifier , plot_tree\n",
        "from sklearn.ensemble import RandomForestClassifier"
      ],
      "metadata": {
        "trusted": true,
        "execution": {
          "iopub.status.busy": "2024-11-28T21:36:52.000919Z",
          "iopub.execute_input": "2024-11-28T21:36:52.001293Z",
          "iopub.status.idle": "2024-11-28T21:36:52.007654Z",
          "shell.execute_reply.started": "2024-11-28T21:36:52.001261Z",
          "shell.execute_reply": "2024-11-28T21:36:52.006515Z"
        },
        "id": "E6_8C4DCR6eu"
      },
      "outputs": [],
      "execution_count": null
    },
    {
      "cell_type": "code",
      "source": [
        "import warnings\n",
        "warnings.filterwarnings('ignore')"
      ],
      "metadata": {
        "trusted": true,
        "execution": {
          "iopub.status.busy": "2024-11-28T20:23:57.11377Z",
          "iopub.execute_input": "2024-11-28T20:23:57.114262Z",
          "iopub.status.idle": "2024-11-28T20:23:57.118986Z",
          "shell.execute_reply.started": "2024-11-28T20:23:57.114229Z",
          "shell.execute_reply": "2024-11-28T20:23:57.117879Z"
        },
        "id": "IgbMEDPIR6eu"
      },
      "outputs": [],
      "execution_count": null
    },
    {
      "cell_type": "markdown",
      "source": [
        "# Data Overview"
      ],
      "metadata": {
        "id": "4aU4mmJMR6ev"
      }
    },
    {
      "cell_type": "code",
      "source": [
        "#read the data\n",
        "data = pd.read_csv(\"/kaggle/input/credit-card-fraud/card_transdata.csv\")\n",
        "data.head()"
      ],
      "metadata": {
        "trusted": true,
        "execution": {
          "iopub.status.busy": "2024-11-28T20:23:58.844041Z",
          "iopub.execute_input": "2024-11-28T20:23:58.844411Z",
          "iopub.status.idle": "2024-11-28T20:24:00.1541Z",
          "shell.execute_reply.started": "2024-11-28T20:23:58.84438Z",
          "shell.execute_reply": "2024-11-28T20:24:00.153085Z"
        },
        "id": "gqTB5haHR6ev"
      },
      "outputs": [],
      "execution_count": null
    },
    {
      "cell_type": "code",
      "source": [
        "#info\n",
        "data.info()"
      ],
      "metadata": {
        "trusted": true,
        "execution": {
          "iopub.status.busy": "2024-11-28T20:24:00.96976Z",
          "iopub.execute_input": "2024-11-28T20:24:00.970695Z",
          "iopub.status.idle": "2024-11-28T20:24:01.000338Z",
          "shell.execute_reply.started": "2024-11-28T20:24:00.970657Z",
          "shell.execute_reply": "2024-11-28T20:24:00.999365Z"
        },
        "id": "T-P1d9jtR6ex"
      },
      "outputs": [],
      "execution_count": null
    },
    {
      "cell_type": "code",
      "source": [
        "#describition\n",
        "data.describe()"
      ],
      "metadata": {
        "trusted": true,
        "execution": {
          "iopub.status.busy": "2024-11-28T20:24:01.487082Z",
          "iopub.execute_input": "2024-11-28T20:24:01.488002Z",
          "iopub.status.idle": "2024-11-28T20:24:01.845862Z",
          "shell.execute_reply.started": "2024-11-28T20:24:01.487962Z",
          "shell.execute_reply": "2024-11-28T20:24:01.844609Z"
        },
        "id": "XSWURdhwR6ex"
      },
      "outputs": [],
      "execution_count": null
    },
    {
      "cell_type": "markdown",
      "source": [
        "* There are Extreme Outliers for numrical Features"
      ],
      "metadata": {
        "id": "VswFZlFCR6ey"
      }
    },
    {
      "cell_type": "code",
      "source": [
        "#nulls\n",
        "data.isna().sum()"
      ],
      "metadata": {
        "trusted": true,
        "execution": {
          "iopub.status.busy": "2024-11-28T20:24:02.474946Z",
          "iopub.execute_input": "2024-11-28T20:24:02.475823Z",
          "iopub.status.idle": "2024-11-28T20:24:02.494342Z",
          "shell.execute_reply.started": "2024-11-28T20:24:02.475785Z",
          "shell.execute_reply": "2024-11-28T20:24:02.493382Z"
        },
        "id": "fHMlXhuRR6ez"
      },
      "outputs": [],
      "execution_count": null
    },
    {
      "cell_type": "code",
      "source": [
        "#duplicate\n",
        "data.duplicated().sum()"
      ],
      "metadata": {
        "trusted": true,
        "execution": {
          "iopub.status.busy": "2024-11-28T20:24:02.970653Z",
          "iopub.execute_input": "2024-11-28T20:24:02.971031Z",
          "iopub.status.idle": "2024-11-28T20:24:03.437573Z",
          "shell.execute_reply.started": "2024-11-28T20:24:02.970998Z",
          "shell.execute_reply": "2024-11-28T20:24:03.436575Z"
        },
        "id": "9U4gYKnGR6ez"
      },
      "outputs": [],
      "execution_count": null
    },
    {
      "cell_type": "markdown",
      "source": [
        "* The Data don't Have any missing valios or any Dublicated"
      ],
      "metadata": {
        "id": "G0_Zf3ndR6ez"
      }
    },
    {
      "cell_type": "markdown",
      "source": [
        "# Exploratory Data Analysis (EDA)\n",
        "\n",
        "In this section, we will analyze the dataset and We will focus on:\n",
        "- Distribution of numerical features.\n",
        "- Analysis of categorical features.\n",
        "- Detecting outliers.\n",
        "- Target Distribition"
      ],
      "metadata": {
        "id": "-i-ug1gcR6e0"
      }
    },
    {
      "cell_type": "code",
      "source": [
        "#Distribition of Numeric Features\n",
        "num_features = ['distance_from_home','distance_from_last_transaction','ratio_to_median_purchase_price']\n",
        "\n",
        "for col in num_features:\n",
        "    plt.figure(figsize=(8, 5))\n",
        "    sns.boxplot(data[col], color='blue')\n",
        "    plt.title(f'Distribution of {col}')\n",
        "    plt.xlabel(col)\n",
        "    plt.ylabel('Distribution')\n",
        "    plt.show()"
      ],
      "metadata": {
        "trusted": true,
        "execution": {
          "iopub.status.busy": "2024-11-28T20:24:04.495704Z",
          "iopub.execute_input": "2024-11-28T20:24:04.49609Z",
          "iopub.status.idle": "2024-11-28T20:24:05.824544Z",
          "shell.execute_reply.started": "2024-11-28T20:24:04.496048Z",
          "shell.execute_reply": "2024-11-28T20:24:05.823559Z"
        },
        "id": "CGDvXpEdR6e0"
      },
      "outputs": [],
      "execution_count": null
    },
    {
      "cell_type": "markdown",
      "source": [
        "* We don't need to remove too many outliers because they will affect the target, so we'll remove the very Extreme outliers"
      ],
      "metadata": {
        "id": "O667oVTBR6e0"
      }
    },
    {
      "cell_type": "markdown",
      "source": [
        "**Target distribution Before removing outliers**"
      ],
      "metadata": {
        "id": "gOExDW2NR6e0"
      }
    },
    {
      "cell_type": "code",
      "source": [
        "#Target Distribition\n",
        "data[\"fraud\"].value_counts(normalize=True).round(2)"
      ],
      "metadata": {
        "trusted": true,
        "execution": {
          "iopub.status.busy": "2024-11-28T20:24:06.252025Z",
          "iopub.execute_input": "2024-11-28T20:24:06.253105Z",
          "iopub.status.idle": "2024-11-28T20:24:06.269452Z",
          "shell.execute_reply.started": "2024-11-28T20:24:06.253064Z",
          "shell.execute_reply": "2024-11-28T20:24:06.268588Z"
        },
        "id": "Yg0lKP1mR6e0"
      },
      "outputs": [],
      "execution_count": null
    },
    {
      "cell_type": "code",
      "source": [
        "# List of numeric features with potential outliers\n",
        "num_features = ['distance_from_home', 'distance_from_last_transaction', 'ratio_to_median_purchase_price']\n",
        "\n",
        "# Loop through each column and remove the rows with the largest 3 values\n",
        "for col in num_features:\n",
        "    # Find the indices of the largest 3 values\n",
        "    largest_indices = data[col].nlargest(3).index\n",
        "\n",
        "    # Drop these rows from the DataFrame\n",
        "    data = data.drop(largest_indices)\n",
        "\n",
        "# Reset the index after dropping rows\n",
        "data = data.reset_index(drop=True)"
      ],
      "metadata": {
        "trusted": true,
        "execution": {
          "iopub.status.busy": "2024-11-28T20:24:06.912281Z",
          "iopub.execute_input": "2024-11-28T20:24:06.913139Z",
          "iopub.status.idle": "2024-11-28T20:24:07.379734Z",
          "shell.execute_reply.started": "2024-11-28T20:24:06.913095Z",
          "shell.execute_reply": "2024-11-28T20:24:07.378919Z"
        },
        "id": "QlFzEV45R6e1"
      },
      "outputs": [],
      "execution_count": null
    },
    {
      "cell_type": "markdown",
      "source": [
        "**Check The Distribition Again**"
      ],
      "metadata": {
        "id": "9wiS9lfeR6e1"
      }
    },
    {
      "cell_type": "code",
      "source": [
        "#Distribition of Numeric Features\n",
        "num_features = ['distance_from_home','distance_from_last_transaction','ratio_to_median_purchase_price']\n",
        "\n",
        "for col in num_features:\n",
        "    plt.figure(figsize=(8, 5))\n",
        "    sns.boxplot(data[col], color='blue')\n",
        "    plt.title(f'Distribution of {col}')\n",
        "    plt.xlabel(col)\n",
        "    plt.ylabel('Distribution')\n",
        "    plt.show()"
      ],
      "metadata": {
        "trusted": true,
        "execution": {
          "iopub.status.busy": "2024-11-28T20:24:09.861996Z",
          "iopub.execute_input": "2024-11-28T20:24:09.862916Z",
          "iopub.status.idle": "2024-11-28T20:24:11.084554Z",
          "shell.execute_reply.started": "2024-11-28T20:24:09.862877Z",
          "shell.execute_reply": "2024-11-28T20:24:11.083383Z"
        },
        "id": "KX1YFIG1R6e1"
      },
      "outputs": [],
      "execution_count": null
    },
    {
      "cell_type": "markdown",
      "source": [
        "**Target distribution After removing outliers**"
      ],
      "metadata": {
        "id": "cW616vdGR6e1"
      }
    },
    {
      "cell_type": "code",
      "source": [
        "#Target Distribition\n",
        "data[\"fraud\"].value_counts(normalize=True).round(2)"
      ],
      "metadata": {
        "trusted": true,
        "execution": {
          "iopub.status.busy": "2024-11-28T20:24:14.938945Z",
          "iopub.execute_input": "2024-11-28T20:24:14.939327Z",
          "iopub.status.idle": "2024-11-28T20:24:14.956923Z",
          "shell.execute_reply.started": "2024-11-28T20:24:14.939294Z",
          "shell.execute_reply": "2024-11-28T20:24:14.955931Z"
        },
        "id": "puWce3onR6e1"
      },
      "outputs": [],
      "execution_count": null
    },
    {
      "cell_type": "code",
      "source": [
        "#Analysis of categorical features\n",
        "cat_features = ['repeat_retailer', 'used_chip', 'used_pin_number', 'online_order']\n",
        "\n",
        "fig, axes = plt.subplots(2, 2, figsize=(14, 10))\n",
        "axes = axes.flatten()\n",
        "for i, col in enumerate(cat_features):\n",
        "    value_counts = data[col].value_counts()\n",
        "    value_counts.plot.pie(ax=axes[i],\n",
        "                          autopct='%1.1f%%',\n",
        "                          colors=sns.color_palette('Reds', n_colors=len(value_counts)),\n",
        "                          startangle=90)\n",
        "    axes[i].set_title(f'Distribution of {col}')\n",
        "    axes[i].set_xlabel(col)\n",
        "    axes[i].set_ylabel('Count')\n",
        "\n",
        "plt.tight_layout()\n",
        "plt.show()"
      ],
      "metadata": {
        "trusted": true,
        "execution": {
          "iopub.status.busy": "2024-11-28T20:24:15.998967Z",
          "iopub.execute_input": "2024-11-28T20:24:15.99936Z",
          "iopub.status.idle": "2024-11-28T20:24:16.681355Z",
          "shell.execute_reply.started": "2024-11-28T20:24:15.999324Z",
          "shell.execute_reply": "2024-11-28T20:24:16.680304Z"
        },
        "id": "aqW_ega8R6e1"
      },
      "outputs": [],
      "execution_count": null
    },
    {
      "cell_type": "code",
      "source": [
        "#Target Distribition\n",
        "sns.countplot(data=data, x=\"fraud\", palette=\"Reds\")\n",
        "plt.title(\"Distribution of Target (Fraud)\")\n",
        "plt.xlabel(\"Fraud\")\n",
        "plt.ylabel(\"Count\")\n",
        "plt.xticks(ticks=[0, 1], labels=[\"No Fraud\", \"Fraud\"])\n",
        "plt.show()"
      ],
      "metadata": {
        "trusted": true,
        "execution": {
          "iopub.status.busy": "2024-11-28T20:24:17.101522Z",
          "iopub.execute_input": "2024-11-28T20:24:17.102247Z",
          "iopub.status.idle": "2024-11-28T20:24:17.340127Z",
          "shell.execute_reply.started": "2024-11-28T20:24:17.10221Z",
          "shell.execute_reply": "2024-11-28T20:24:17.33914Z"
        },
        "id": "zqRCQRpoR6e1"
      },
      "outputs": [],
      "execution_count": null
    },
    {
      "cell_type": "markdown",
      "source": [
        "# Features Correlation with Target"
      ],
      "metadata": {
        "id": "lN60QosAR6e1"
      }
    },
    {
      "cell_type": "code",
      "source": [
        "#Numrical Features correlicition with the Target\n",
        "# Create subplots\n",
        "fig, axes = plt.subplots(1, 3, figsize=(18, 5))\n",
        "\n",
        "# Loop through each numerical feature and plot the correlation with the target\n",
        "for i, col in enumerate(num_features):\n",
        "    sns.boxplot(data=data, x=\"fraud\", y=col, ax=axes[i], palette=\"Reds\")\n",
        "    axes[i].set_title(f'{col} correlicition with the Target', fontsize=14)\n",
        "    axes[i].set_xlabel('Fraud', fontsize=12)\n",
        "    axes[i].set_ylabel(col, fontsize=12)\n",
        "\n",
        "# Adjust layout\n",
        "plt.tight_layout()\n",
        "plt.show()"
      ],
      "metadata": {
        "trusted": true,
        "execution": {
          "iopub.status.busy": "2024-11-28T20:24:21.383228Z",
          "iopub.execute_input": "2024-11-28T20:24:21.384094Z",
          "iopub.status.idle": "2024-11-28T20:24:22.814192Z",
          "shell.execute_reply.started": "2024-11-28T20:24:21.384052Z",
          "shell.execute_reply": "2024-11-28T20:24:22.813165Z"
        },
        "id": "aaT9jmYOR6e2"
      },
      "outputs": [],
      "execution_count": null
    },
    {
      "cell_type": "code",
      "source": [
        "#Categorical Features correlicition with the Target\n",
        "# Create subplots\n",
        "fig, axes = plt.subplots(2, 2, figsize=(12, 10))\n",
        "axes = axes.flatten()\n",
        "\n",
        "# Loop through each Categorical feature and plot the correlation with the target\n",
        "for i, col in enumerate(cat_features):\n",
        "    sns.barplot(data=data, x=\"fraud\", y=col, ax=axes[i], palette=\"Reds\")\n",
        "    axes[i].set_title(f'{col} correlicition with the Target', fontsize=14)\n",
        "    axes[i].set_xlabel('Fraud', fontsize=12)\n",
        "    axes[i].set_ylabel(col, fontsize=12)\n",
        "\n",
        "# Adjust layout\n",
        "plt.tight_layout()\n",
        "plt.show()"
      ],
      "metadata": {
        "trusted": true,
        "execution": {
          "iopub.status.busy": "2024-11-28T20:24:22.816159Z",
          "iopub.execute_input": "2024-11-28T20:24:22.816602Z",
          "iopub.status.idle": "2024-11-28T20:25:04.774228Z",
          "shell.execute_reply.started": "2024-11-28T20:24:22.816558Z",
          "shell.execute_reply": "2024-11-28T20:25:04.773219Z"
        },
        "id": "dpBU0JQ_R6e2"
      },
      "outputs": [],
      "execution_count": null
    },
    {
      "cell_type": "code",
      "source": [
        "data.corr().abs()"
      ],
      "metadata": {
        "trusted": true,
        "execution": {
          "iopub.status.busy": "2024-11-28T20:25:04.776302Z",
          "iopub.execute_input": "2024-11-28T20:25:04.776742Z",
          "iopub.status.idle": "2024-11-28T20:25:04.990706Z",
          "shell.execute_reply.started": "2024-11-28T20:25:04.776698Z",
          "shell.execute_reply": "2024-11-28T20:25:04.989723Z"
        },
        "id": "6Uv_LykIR6e2"
      },
      "outputs": [],
      "execution_count": null
    },
    {
      "cell_type": "code",
      "source": [
        "sns.heatmap(data.corr().abs() ,annot=True , fmt=\".2f\" , cmap=\"Blues\")"
      ],
      "metadata": {
        "trusted": true,
        "execution": {
          "iopub.status.busy": "2024-11-28T20:25:04.991797Z",
          "iopub.execute_input": "2024-11-28T20:25:04.99216Z",
          "iopub.status.idle": "2024-11-28T20:25:05.623479Z",
          "shell.execute_reply.started": "2024-11-28T20:25:04.992131Z",
          "shell.execute_reply": "2024-11-28T20:25:05.62247Z"
        },
        "id": "LrI4xR5QR6e2"
      },
      "outputs": [],
      "execution_count": null
    },
    {
      "cell_type": "markdown",
      "source": [
        "* All Features Have A correlition with The Target except for repeat_retailer"
      ],
      "metadata": {
        "id": "XRALsr-jR6e2"
      }
    },
    {
      "cell_type": "markdown",
      "source": [
        "# Data Spiliting and Preprocessing"
      ],
      "metadata": {
        "id": "ZQ6cvCzPR6e3"
      }
    },
    {
      "cell_type": "code",
      "source": [
        "#declare the featues and target\n",
        "x = data.drop(columns=[\"fraud\"])\n",
        "y = data[\"fraud\"]"
      ],
      "metadata": {
        "trusted": true,
        "execution": {
          "iopub.status.busy": "2024-11-28T20:25:05.626463Z",
          "iopub.execute_input": "2024-11-28T20:25:05.626935Z",
          "iopub.status.idle": "2024-11-28T20:25:05.652616Z",
          "shell.execute_reply.started": "2024-11-28T20:25:05.626889Z",
          "shell.execute_reply": "2024-11-28T20:25:05.651769Z"
        },
        "id": "l8Hxg8qnR6e3"
      },
      "outputs": [],
      "execution_count": null
    },
    {
      "cell_type": "code",
      "source": [
        "#split the data\n",
        "xtrain, xtest, ytrain, ytest = train_test_split(x, y, test_size=0.2, random_state=42)"
      ],
      "metadata": {
        "trusted": true,
        "execution": {
          "iopub.status.busy": "2024-11-28T20:25:05.653775Z",
          "iopub.execute_input": "2024-11-28T20:25:05.654097Z",
          "iopub.status.idle": "2024-11-28T20:25:05.858724Z",
          "shell.execute_reply.started": "2024-11-28T20:25:05.654059Z",
          "shell.execute_reply": "2024-11-28T20:25:05.857597Z"
        },
        "id": "KcgFIg8uR6e3"
      },
      "outputs": [],
      "execution_count": null
    },
    {
      "cell_type": "code",
      "source": [
        "#preprocessing\n",
        "std = StandardScaler()\n",
        "xtrain = std.fit_transform(xtrain)\n",
        "xtest = std.transform(xtest)"
      ],
      "metadata": {
        "trusted": true,
        "execution": {
          "iopub.status.busy": "2024-11-28T20:25:05.86041Z",
          "iopub.execute_input": "2024-11-28T20:25:05.860976Z",
          "iopub.status.idle": "2024-11-28T20:25:06.018594Z",
          "shell.execute_reply.started": "2024-11-28T20:25:05.860943Z",
          "shell.execute_reply": "2024-11-28T20:25:06.017622Z"
        },
        "id": "GwTDmN_eR6e3"
      },
      "outputs": [],
      "execution_count": null
    },
    {
      "cell_type": "markdown",
      "source": [
        "# Model Building"
      ],
      "metadata": {
        "id": "3hruRAjRR6e4"
      }
    },
    {
      "cell_type": "markdown",
      "source": [
        "1.  We Need To declare function to validate The Model\n",
        "2.  We Need To declare function to Tunning The Model\n",
        "3.  We Need To declare Function to Check Model Evaluation\n",
        "4.  We Need To declare 2 Functions for (precision_recall_trade_off , roc_curve)"
      ],
      "metadata": {
        "id": "ri-TMtPBR6e4"
      }
    },
    {
      "cell_type": "code",
      "source": [
        "#declare function to validata The Model\n",
        "def validate(model,x,y,score,n):\n",
        "\n",
        "    '''this function is to validate the model across multiple stratified splits'''\n",
        "\n",
        "    validate = cross_val_score(model , x , y , scoring=score , cv=n)\n",
        "    print('Cross Validation Scores: ',validate)\n",
        "    print('Scores Mean: ',validate.mean())\n",
        "    model.fit(x,y)\n",
        "    return model"
      ],
      "metadata": {
        "trusted": true,
        "execution": {
          "iopub.status.busy": "2024-11-28T20:25:06.019958Z",
          "iopub.execute_input": "2024-11-28T20:25:06.020712Z",
          "iopub.status.idle": "2024-11-28T20:25:06.026696Z",
          "shell.execute_reply.started": "2024-11-28T20:25:06.020663Z",
          "shell.execute_reply": "2024-11-28T20:25:06.025597Z"
        },
        "id": "YHKoj0VfR6e4"
      },
      "outputs": [],
      "execution_count": null
    },
    {
      "cell_type": "code",
      "source": [
        "#declare function to Tunning The Model\n",
        "def tunning(model,x,y,params,score,n,n_iter=10):\n",
        "\n",
        "    '''This function recieves a model then tune it using GridSearch\n",
        "    then print the best parameters and return the best estimator'''\n",
        "\n",
        "    grid = GridSearchCV(model,params,cv=n,scoring=score)\n",
        "    grid.fit(x,y)\n",
        "    best_model = grid.best_estimator_\n",
        "    print(\"best Params : \" , grid.best_params_)\n",
        "    print(\"best Score : \" , grid.best_score_)\n",
        "    return best_model"
      ],
      "metadata": {
        "trusted": true,
        "execution": {
          "iopub.status.busy": "2024-11-28T20:25:06.028038Z",
          "iopub.execute_input": "2024-11-28T20:25:06.028472Z",
          "iopub.status.idle": "2024-11-28T20:25:06.039349Z",
          "shell.execute_reply.started": "2024-11-28T20:25:06.028427Z",
          "shell.execute_reply": "2024-11-28T20:25:06.038348Z"
        },
        "id": "i_OEAFQ7R6e4"
      },
      "outputs": [],
      "execution_count": null
    },
    {
      "cell_type": "code",
      "source": [
        "#declare Function to Check Model Evaluation\n",
        "def model_evaluation(model,x,y,color,threshold):\n",
        "\n",
        "    '''this function is to evaluate the model based on a given threshold\n",
        "    1--> print the classification report     2--> display the confusion matrix'''\n",
        "\n",
        "    #classification report\n",
        "    y_pred_prob = model.predict_proba(x)[:, 1]\n",
        "    y_pred = (y_pred_prob >= threshold).astype(int)\n",
        "    print(\"Classification Report:\")\n",
        "    print(classification_report(y, y_pred, zero_division=0))\n",
        "\n",
        "    #confusion matrix\n",
        "    plt.figure(figsize=(6, 4))\n",
        "    sns.heatmap(confusion_matrix(y, y_pred), annot=True , fmt=\"d\", cmap=\"Blues\", cbar=False)\n",
        "    plt.xlabel(\"Predicted\")\n",
        "    plt.ylabel(\"Actual\")\n",
        "    plt.title(\"Confusion Matrix\")\n",
        "    plt.show()"
      ],
      "metadata": {
        "trusted": true,
        "execution": {
          "iopub.status.busy": "2024-11-28T21:29:54.635449Z",
          "iopub.execute_input": "2024-11-28T21:29:54.63588Z",
          "iopub.status.idle": "2024-11-28T21:29:54.642304Z",
          "shell.execute_reply.started": "2024-11-28T21:29:54.635836Z",
          "shell.execute_reply": "2024-11-28T21:29:54.641266Z"
        },
        "id": "LmOYLEH8R6e-"
      },
      "outputs": [],
      "execution_count": null
    },
    {
      "cell_type": "code",
      "source": [
        "#declare 2 Functions for (precision_recall_trade_off , roc_curve)\n",
        "\n",
        "#precision_recall_trade_off\n",
        "def precision_recall_trade_off(model,x,y):\n",
        "\n",
        "    '''this function is to plot the precision-recall curve then\n",
        "    printing the thresholds that achieves the highest recall'''\n",
        "\n",
        "    y_pred_prob = model.predict_proba(x)[:, 1]\n",
        "    precisions , recalls , thresholds = precision_recall_curve(y,y_pred_prob)\n",
        "    df = pd.DataFrame({'Threshold':thresholds,'Precision':precisions[:-1],'Recall':recalls[:-1]})\n",
        "    fig = px.line(df,x='Recall',y='Precision',\n",
        "                  title='Precision-Recall Curve',\n",
        "                  width=700,height=500,\n",
        "                  hover_data=['Threshold'])\n",
        "    fig.show()\n",
        "    print(df[(df['Recall']>=0.9)].tail(10))"
      ],
      "metadata": {
        "trusted": true,
        "execution": {
          "iopub.status.busy": "2024-11-28T20:25:06.055729Z",
          "iopub.execute_input": "2024-11-28T20:25:06.056098Z",
          "iopub.status.idle": "2024-11-28T20:25:06.065831Z",
          "shell.execute_reply.started": "2024-11-28T20:25:06.056042Z",
          "shell.execute_reply": "2024-11-28T20:25:06.064851Z"
        },
        "id": "Rqu4gMXkR6e-"
      },
      "outputs": [],
      "execution_count": null
    },
    {
      "cell_type": "code",
      "source": [
        "#roc_curve\n",
        "def roc_curve(model, x, y):\n",
        "\n",
        "    '''This function plots the ROC-AUC curve and calculates the ROC-AUC score.'''\n",
        "\n",
        "    y_pred_prob = model.predict_proba(x)[:, 1]\n",
        "    fpr, tpr, thresholds = sk_roc_curve(y, y_pred_prob)\n",
        "    df = pd.DataFrame({'Threshold': thresholds, 'FPR': fpr, 'TPR': tpr})\n",
        "    fig = px.line(df, x='FPR', y='TPR', title='ROC Curve', width=700, height=500, hover_data=['Threshold'])\n",
        "    fig.show()\n",
        "    print('ROC-AUC Score: ',roc_auc_score(y,y_pred_prob))"
      ],
      "metadata": {
        "trusted": true,
        "execution": {
          "iopub.status.busy": "2024-11-28T20:25:06.0672Z",
          "iopub.execute_input": "2024-11-28T20:25:06.068108Z",
          "iopub.status.idle": "2024-11-28T20:25:06.076084Z",
          "shell.execute_reply.started": "2024-11-28T20:25:06.068061Z",
          "shell.execute_reply": "2024-11-28T20:25:06.075259Z"
        },
        "id": "ypB6xUBnR6e_"
      },
      "outputs": [],
      "execution_count": null
    },
    {
      "cell_type": "markdown",
      "source": [
        "* Before choosing the model, we will consider Recall as the main evaluation metric , because we need to ensure that all potential fraud cases are detected."
      ],
      "metadata": {
        "id": "10f6XtIFR6e_"
      }
    },
    {
      "cell_type": "markdown",
      "source": [
        "# Logistic Regression"
      ],
      "metadata": {
        "id": "kUUP8JoZR6e_"
      }
    },
    {
      "cell_type": "code",
      "source": [
        "#validate\n",
        "log = LogisticRegression(random_state=42)\n",
        "log_reg = validate(log , xtrain , ytrain , \"recall\" , 10)\n",
        "log_reg"
      ],
      "metadata": {
        "trusted": true,
        "id": "AwNcflU1R6e_"
      },
      "outputs": [],
      "execution_count": null
    },
    {
      "cell_type": "code",
      "source": [
        "#Define the parameter grid for penalty and C\n",
        "params = {'penalty': ['l1', 'l2', 'elasticnet'],\n",
        "              'C': [0.01, 0.1, 1, 10],\n",
        "              'solver': ['saga', 'liblinear']}\n",
        "\n",
        "#Tunning The Model\n",
        "best_log = tunning(log_reg , xtrain , ytrain , params , \"recall\" , 3)\n",
        "best_log"
      ],
      "metadata": {
        "trusted": true,
        "id": "7t6FsqOCR6fA"
      },
      "outputs": [],
      "execution_count": null
    },
    {
      "cell_type": "code",
      "source": [
        "#show precision-recall curve\n",
        "precision_recall_trade_off(best_log , xtrain , ytrain)"
      ],
      "metadata": {
        "trusted": true,
        "id": "yQjuXOUiR6fA"
      },
      "outputs": [],
      "execution_count": null
    },
    {
      "cell_type": "code",
      "source": [
        "#Model Evaluation\n",
        "model_evaluation(best_log , xtrain , ytrain , 'Blues' , 0.15)"
      ],
      "metadata": {
        "trusted": true,
        "id": "mZYxl64vR6fA"
      },
      "outputs": [],
      "execution_count": null
    },
    {
      "cell_type": "code",
      "source": [
        "#show roc curve\n",
        "roc_curve(best_log, xtrain, ytrain)"
      ],
      "metadata": {
        "trusted": true,
        "id": "-XabIiVIR6fA"
      },
      "outputs": [],
      "execution_count": null
    },
    {
      "cell_type": "markdown",
      "source": [
        "# KNN Classifier"
      ],
      "metadata": {
        "id": "TvDmxRktR6fA"
      }
    },
    {
      "cell_type": "code",
      "source": [
        "#validate\n",
        "knn = KNeighborsClassifier(n_neighbors=5)\n",
        "knn = validate(knn , xtrain , ytrain , \"recall\" , 10)\n",
        "knn"
      ],
      "metadata": {
        "trusted": true,
        "execution": {
          "iopub.status.busy": "2024-11-28T20:25:06.077272Z",
          "iopub.execute_input": "2024-11-28T20:25:06.077609Z",
          "iopub.status.idle": "2024-11-28T20:27:44.255342Z",
          "shell.execute_reply.started": "2024-11-28T20:25:06.077579Z",
          "shell.execute_reply": "2024-11-28T20:27:44.254377Z"
        },
        "id": "ofR2VGLAR6fA"
      },
      "outputs": [],
      "execution_count": null
    },
    {
      "cell_type": "code",
      "source": [
        "#show precision-recall curve\n",
        "precision_recall_trade_off(knn , xtrain , ytrain)"
      ],
      "metadata": {
        "trusted": true,
        "execution": {
          "iopub.status.busy": "2024-11-28T21:18:34.955208Z",
          "iopub.execute_input": "2024-11-28T21:18:34.955623Z",
          "iopub.status.idle": "2024-11-28T21:20:26.943278Z",
          "shell.execute_reply.started": "2024-11-28T21:18:34.955584Z",
          "shell.execute_reply": "2024-11-28T21:20:26.942182Z"
        },
        "id": "1tHHa_9bR6fB"
      },
      "outputs": [],
      "execution_count": null
    },
    {
      "cell_type": "code",
      "source": [
        "#Model Evaluation\n",
        "model_evaluation(knn , xtrain , ytrain , 'Greens' , 0.5)"
      ],
      "metadata": {
        "trusted": true,
        "execution": {
          "iopub.status.busy": "2024-11-28T21:23:04.576395Z",
          "iopub.execute_input": "2024-11-28T21:23:04.57681Z",
          "iopub.status.idle": "2024-11-28T21:24:58.03587Z",
          "shell.execute_reply.started": "2024-11-28T21:23:04.576774Z",
          "shell.execute_reply": "2024-11-28T21:24:58.034899Z"
        },
        "id": "1iGVQjUbR6fB"
      },
      "outputs": [],
      "execution_count": null
    },
    {
      "cell_type": "markdown",
      "source": [
        "* check if the model drop in overfitting"
      ],
      "metadata": {
        "id": "IWNcgcWRR6fC"
      }
    },
    {
      "cell_type": "code",
      "source": [
        "#Model Evaluation for testing\n",
        "model_evaluation(knn , xtest , ytest , 'Greens' , 0.5)"
      ],
      "metadata": {
        "trusted": true,
        "execution": {
          "iopub.status.busy": "2024-11-28T21:30:42.268759Z",
          "iopub.execute_input": "2024-11-28T21:30:42.269165Z",
          "iopub.status.idle": "2024-11-28T21:31:11.412839Z",
          "shell.execute_reply.started": "2024-11-28T21:30:42.269125Z",
          "shell.execute_reply": "2024-11-28T21:31:11.411932Z"
        },
        "id": "vNzIUC5AR6fC"
      },
      "outputs": [],
      "execution_count": null
    },
    {
      "cell_type": "code",
      "source": [
        "#show roc curve\n",
        "roc_curve(knn, xtrain, ytrain)"
      ],
      "metadata": {
        "trusted": true,
        "execution": {
          "iopub.status.busy": "2024-11-28T21:31:11.413962Z",
          "iopub.execute_input": "2024-11-28T21:31:11.414367Z",
          "iopub.status.idle": "2024-11-28T21:33:02.770343Z",
          "shell.execute_reply.started": "2024-11-28T21:31:11.414324Z",
          "shell.execute_reply": "2024-11-28T21:33:02.769285Z"
        },
        "id": "rb1m8qL0R6fC"
      },
      "outputs": [],
      "execution_count": null
    },
    {
      "cell_type": "code",
      "source": [
        "#show roc curve\n",
        "roc_curve(knn, xtest, ytest)"
      ],
      "metadata": {
        "trusted": true,
        "execution": {
          "iopub.status.busy": "2024-11-28T21:33:02.772024Z",
          "iopub.execute_input": "2024-11-28T21:33:02.77234Z",
          "iopub.status.idle": "2024-11-28T21:33:31.118406Z",
          "shell.execute_reply.started": "2024-11-28T21:33:02.77231Z",
          "shell.execute_reply": "2024-11-28T21:33:31.117332Z"
        },
        "id": "IzqGCSgnR6fC"
      },
      "outputs": [],
      "execution_count": null
    },
    {
      "cell_type": "markdown",
      "source": [
        "# Decision Tree Classifier"
      ],
      "metadata": {
        "id": "r_uQAMbCR6fC"
      }
    },
    {
      "cell_type": "code",
      "source": [
        "#validate\n",
        "tree = DecisionTreeClassifier(random_state=42)\n",
        "tree = validate(tree , xtrain , ytrain , \"recall\" , 10)\n",
        "tree"
      ],
      "metadata": {
        "trusted": true,
        "execution": {
          "iopub.status.busy": "2024-11-28T21:35:00.467768Z",
          "iopub.execute_input": "2024-11-28T21:35:00.468751Z",
          "iopub.status.idle": "2024-11-28T21:35:20.802981Z",
          "shell.execute_reply.started": "2024-11-28T21:35:00.468712Z",
          "shell.execute_reply": "2024-11-28T21:35:20.801976Z"
        },
        "id": "MIJampHRR6fD"
      },
      "outputs": [],
      "execution_count": null
    },
    {
      "cell_type": "code",
      "source": [
        "#show precision-recall curve\n",
        "precision_recall_trade_off(tree , xtrain , ytrain)"
      ],
      "metadata": {
        "trusted": true,
        "execution": {
          "iopub.status.busy": "2024-11-28T21:35:20.804752Z",
          "iopub.execute_input": "2024-11-28T21:35:20.805054Z",
          "iopub.status.idle": "2024-11-28T21:35:20.973405Z",
          "shell.execute_reply.started": "2024-11-28T21:35:20.805025Z",
          "shell.execute_reply": "2024-11-28T21:35:20.972435Z"
        },
        "id": "tNUd225KR6fD"
      },
      "outputs": [],
      "execution_count": null
    },
    {
      "cell_type": "code",
      "source": [
        "#Model Evaluation\n",
        "model_evaluation(tree , xtrain , ytrain , 'Reds' , 0.5)"
      ],
      "metadata": {
        "trusted": true,
        "execution": {
          "iopub.status.busy": "2024-11-28T21:35:20.974599Z",
          "iopub.execute_input": "2024-11-28T21:35:20.974901Z",
          "iopub.status.idle": "2024-11-28T21:35:23.552466Z",
          "shell.execute_reply.started": "2024-11-28T21:35:20.974871Z",
          "shell.execute_reply": "2024-11-28T21:35:23.551227Z"
        },
        "id": "pdocKeLTR6fD"
      },
      "outputs": [],
      "execution_count": null
    },
    {
      "cell_type": "markdown",
      "source": [
        "* check if the model drop in overfitting"
      ],
      "metadata": {
        "id": "7xF_l5z5R6fE"
      }
    },
    {
      "cell_type": "code",
      "source": [
        "#Model Evaluation for testing\n",
        "model_evaluation(tree , xtest , ytest , 'Reds' , 0.5)"
      ],
      "metadata": {
        "trusted": true,
        "execution": {
          "iopub.status.busy": "2024-11-28T21:35:23.55508Z",
          "iopub.execute_input": "2024-11-28T21:35:23.555392Z",
          "iopub.status.idle": "2024-11-28T21:35:24.254429Z",
          "shell.execute_reply.started": "2024-11-28T21:35:23.555362Z",
          "shell.execute_reply": "2024-11-28T21:35:24.253522Z"
        },
        "id": "hpoZyMBfR6fG"
      },
      "outputs": [],
      "execution_count": null
    },
    {
      "cell_type": "code",
      "source": [
        "#show roc curve\n",
        "roc_curve(tree , xtrain, ytrain)"
      ],
      "metadata": {
        "trusted": true,
        "execution": {
          "iopub.status.busy": "2024-11-28T21:35:24.255517Z",
          "iopub.execute_input": "2024-11-28T21:35:24.255813Z",
          "iopub.status.idle": "2024-11-28T21:35:24.614162Z",
          "shell.execute_reply.started": "2024-11-28T21:35:24.255784Z",
          "shell.execute_reply": "2024-11-28T21:35:24.613171Z"
        },
        "id": "a4kHXuxDR6fG"
      },
      "outputs": [],
      "execution_count": null
    },
    {
      "cell_type": "code",
      "source": [
        "#show roc curve for testing\n",
        "roc_curve(tree , xtest, ytest)"
      ],
      "metadata": {
        "trusted": true,
        "execution": {
          "iopub.status.busy": "2024-11-28T21:35:24.615415Z",
          "iopub.execute_input": "2024-11-28T21:35:24.61574Z",
          "iopub.status.idle": "2024-11-28T21:35:24.734958Z",
          "shell.execute_reply.started": "2024-11-28T21:35:24.615709Z",
          "shell.execute_reply": "2024-11-28T21:35:24.733931Z"
        },
        "id": "XA2FlMQrR6fG"
      },
      "outputs": [],
      "execution_count": null
    },
    {
      "cell_type": "code",
      "source": [
        "plt.figure(figsize=(80,25))\n",
        "plot_tree(tree,feature_names=x.columns,\n",
        "          class_names=['No Fraud', \"Fraud\"],\n",
        "          filled=True,rounded=True, fontsize=16);"
      ],
      "metadata": {
        "trusted": true,
        "execution": {
          "iopub.status.busy": "2024-11-28T21:37:14.607632Z",
          "iopub.execute_input": "2024-11-28T21:37:14.6086Z",
          "iopub.status.idle": "2024-11-28T21:37:18.250191Z",
          "shell.execute_reply.started": "2024-11-28T21:37:14.608524Z",
          "shell.execute_reply": "2024-11-28T21:37:18.248929Z"
        },
        "id": "AnH5ZvJNR6fH"
      },
      "outputs": [],
      "execution_count": null
    },
    {
      "cell_type": "markdown",
      "source": [
        "# Random Forest Classifier"
      ],
      "metadata": {
        "id": "T2qelfGJR6fH"
      }
    },
    {
      "cell_type": "code",
      "source": [
        "#validate\n",
        "rfc = RandomForestClassifier(random_state=42)\n",
        "rfc = validate(rfc , xtrain , ytrain , \"recall\" , 10)\n",
        "rfc"
      ],
      "metadata": {
        "trusted": true,
        "execution": {
          "iopub.status.busy": "2024-11-28T21:37:20.443567Z",
          "iopub.execute_input": "2024-11-28T21:37:20.444618Z",
          "iopub.status.idle": "2024-11-28T21:53:25.921681Z",
          "shell.execute_reply.started": "2024-11-28T21:37:20.444563Z",
          "shell.execute_reply": "2024-11-28T21:53:25.920586Z"
        },
        "id": "GaDzsVM9R6fH"
      },
      "outputs": [],
      "execution_count": null
    },
    {
      "cell_type": "code",
      "source": [
        "#show precision-recall curve\n",
        "precision_recall_trade_off(rfc , xtrain , ytrain)"
      ],
      "metadata": {
        "trusted": true,
        "execution": {
          "iopub.status.busy": "2024-11-28T21:53:25.92333Z",
          "iopub.execute_input": "2024-11-28T21:53:25.923661Z",
          "iopub.status.idle": "2024-11-28T21:53:30.982503Z",
          "shell.execute_reply.started": "2024-11-28T21:53:25.92363Z",
          "shell.execute_reply": "2024-11-28T21:53:30.981618Z"
        },
        "id": "Z6tw7LCXR6fH"
      },
      "outputs": [],
      "execution_count": null
    },
    {
      "cell_type": "code",
      "source": [
        "#Model Evaluation\n",
        "model_evaluation(rfc , xtrain , ytrain , 'Blacks' , 0.5)"
      ],
      "metadata": {
        "trusted": true,
        "execution": {
          "iopub.status.busy": "2024-11-28T21:53:30.983997Z",
          "iopub.execute_input": "2024-11-28T21:53:30.98471Z",
          "iopub.status.idle": "2024-11-28T21:53:38.459864Z",
          "shell.execute_reply.started": "2024-11-28T21:53:30.984663Z",
          "shell.execute_reply": "2024-11-28T21:53:38.458586Z"
        },
        "id": "3iRKrMNmR6fH"
      },
      "outputs": [],
      "execution_count": null
    },
    {
      "cell_type": "markdown",
      "source": [
        "* check if the model drop in overfitting"
      ],
      "metadata": {
        "id": "CTZPcC93R6fH"
      }
    },
    {
      "cell_type": "code",
      "source": [
        "#Model Evaluation for testing\n",
        "model_evaluation(rfc , xtest , ytest , 'Blacks' , 0.5)"
      ],
      "metadata": {
        "trusted": true,
        "execution": {
          "iopub.status.busy": "2024-11-28T21:53:38.462495Z",
          "iopub.execute_input": "2024-11-28T21:53:38.46294Z",
          "iopub.status.idle": "2024-11-28T21:53:40.36158Z",
          "shell.execute_reply.started": "2024-11-28T21:53:38.462893Z",
          "shell.execute_reply": "2024-11-28T21:53:40.360551Z"
        },
        "id": "mYZQdj3ER6fI"
      },
      "outputs": [],
      "execution_count": null
    },
    {
      "cell_type": "code",
      "source": [
        "#show roc curve\n",
        "roc_curve(rfc , xtrain, ytrain)"
      ],
      "metadata": {
        "trusted": true,
        "execution": {
          "iopub.status.busy": "2024-11-28T21:53:40.362716Z",
          "iopub.execute_input": "2024-11-28T21:53:40.363007Z",
          "iopub.status.idle": "2024-11-28T21:53:45.710435Z",
          "shell.execute_reply.started": "2024-11-28T21:53:40.362979Z",
          "shell.execute_reply": "2024-11-28T21:53:45.709211Z"
        },
        "id": "GEj5NLHSR6fI"
      },
      "outputs": [],
      "execution_count": null
    },
    {
      "cell_type": "code",
      "source": [
        "#show roc curve for testing\n",
        "roc_curve(rfc , xtest, ytest)"
      ],
      "metadata": {
        "trusted": true,
        "execution": {
          "iopub.status.busy": "2024-11-28T21:53:45.7118Z",
          "iopub.execute_input": "2024-11-28T21:53:45.712199Z",
          "iopub.status.idle": "2024-11-28T21:53:47.038411Z",
          "shell.execute_reply.started": "2024-11-28T21:53:45.712158Z",
          "shell.execute_reply": "2024-11-28T21:53:47.037415Z"
        },
        "id": "KhwXUfxYR6fI"
      },
      "outputs": [],
      "execution_count": null
    },
    {
      "cell_type": "code",
      "source": [],
      "metadata": {
        "trusted": true,
        "id": "1G73PlvvR6fI"
      },
      "outputs": [],
      "execution_count": null
    },
    {
      "cell_type": "code",
      "source": [],
      "metadata": {
        "trusted": true,
        "id": "5f7dZaMTR6fI"
      },
      "outputs": [],
      "execution_count": null
    },
    {
      "cell_type": "code",
      "source": [],
      "metadata": {
        "trusted": true,
        "id": "-ZRXTO7bR6fI"
      },
      "outputs": [],
      "execution_count": null
    },
    {
      "cell_type": "markdown",
      "source": [
        "# Conclusion\n",
        "* All the features except for repeat_retailer have a moderate to strong correlation with the target.\n",
        "* Logistic Regression showed underfitting and did not achieve good results.\n",
        "* KNN achieved great results on both training and test sets with nearly (99% F1 score,99% Recall, 99% ROC-AUC score).\n",
        "* Decision Tree and Random Forest achieved great results on both training and test sets with nearly (100% F1 score,100% Recall, 100% ROC-AUC score)."
      ],
      "metadata": {
        "id": "ezXoHiz-R6fL"
      }
    }
  ]
}